{
  "nbformat": 4,
  "nbformat_minor": 0,
  "metadata": {
    "colab": {
      "name": "Example 5.3 mod.ipynb",
      "provenance": []
    },
    "kernelspec": {
      "name": "python3",
      "display_name": "Python 3"
    }
  },
  "cells": [
    {
      "cell_type": "code",
      "metadata": {
        "id": "dDzK976JsguS"
      },
      "source": [
        "import numpy as np\r\n",
        "import matplotlib.pyplot as plt"
      ],
      "execution_count": 1,
      "outputs": []
    },
    {
      "cell_type": "code",
      "metadata": {
        "id": "tXR9CSO7sjzV"
      },
      "source": [
        "# Process variables .. find T2\r\n",
        "T1 = 400.0 # K\r\n",
        "P1 = 1.0 # bar\r\n",
        "P2 = 5.0 # bar"
      ],
      "execution_count": 3,
      "outputs": []
    },
    {
      "cell_type": "code",
      "metadata": {
        "id": "1hcEDOSYssHE"
      },
      "source": [
        "# Coefficients of temperature dependent heat capacity of propane\r\n",
        "A = 1.213 # \r\n",
        "B = 28.785e-3 # K^-1\r\n",
        "C = -8.824e-6 # K^-2\r\n",
        "D = 0.0 # K^2"
      ],
      "execution_count": 4,
      "outputs": []
    },
    {
      "cell_type": "code",
      "metadata": {
        "id": "ayRug6cctOj0"
      },
      "source": [
        "def C_p_ig_S(T0, T, A, B, C, D):\r\n",
        "  # Calculate the effective heat capacity\r\n",
        "  # C_p_ig / R = A + (B*T0 + (C*T0**2 + D/(tau**2*T0**2))*((tau+1)/2))*((tau-1)/ln(tau))\r\n",
        "  #\r\n",
        "  # Parameters\r\n",
        "  # -----------\r\n",
        "  # T0 : float\r\n",
        "  #   starting temperature\r\n",
        "  # T1 : float\r\n",
        "  #   final temperature\r\n",
        "  # A : float\r\n",
        "  #   zero-order heat capacity coefficient\r\n",
        "  # B : float\r\n",
        "  #   first-order heat capacity coefficient\r\n",
        "  # C : float\r\n",
        "  #   second-order heat capacity coefficient\r\n",
        "  # D : float\r\n",
        "  #   negative second-order heat capacity coefficient\r\n",
        "  #\r\n",
        "  # Returns\r\n",
        "  # -------\r\n",
        "  # retval : float\r\n",
        "  #   effective heat capacity divided by R (universal gas constant)\r\n",
        "  tau = T/T0\r\n",
        "  return A + (B*T0 + (C*T0**2 + D/(tau**2*T0**2))*((tau+1)/2))*((tau-1)/np.log(tau))"
      ],
      "execution_count": 23,
      "outputs": []
    },
    {
      "cell_type": "code",
      "metadata": {
        "colab": {
          "base_uri": "https://localhost:8080/"
        },
        "id": "wz4TNAuhu5m7",
        "outputId": "78920b37-6e4a-4ebf-c7c3-b08160f90ec0"
      },
      "source": [
        "C_p_ig_S(298.15, 298.16, A, B, C, D)"
      ],
      "execution_count": 30,
      "outputs": [
        {
          "output_type": "execute_result",
          "data": {
            "text/plain": [
              "9.010969805152403"
            ]
          },
          "metadata": {
            "tags": []
          },
          "execution_count": 30
        }
      ]
    },
    {
      "cell_type": "code",
      "metadata": {
        "id": "gmbhB5EqvAO6"
      },
      "source": [
        "def func(T):\r\n",
        "  return T - T1*np.exp(np.log(P2/P1)/C_p_ig_S(T1, T, A, B, C, D))"
      ],
      "execution_count": 25,
      "outputs": []
    },
    {
      "cell_type": "code",
      "metadata": {
        "colab": {
          "base_uri": "https://localhost:8080/",
          "height": 300
        },
        "id": "PPx8DMOMvZYN",
        "outputId": "ab54809d-f0e3-44a6-b29b-b84b11fa2e51"
      },
      "source": [
        "T = np.linspace(300, 600)\r\n",
        "f_T = func(T)\r\n",
        "plt.plot(T, f_T)\r\n",
        "plt.xlabel(\"$T$ [K]\")\r\n",
        "plt.ylabel(\"f($T$)\")\r\n",
        "plt.hlines(0, 300, 600)"
      ],
      "execution_count": 26,
      "outputs": [
        {
          "output_type": "execute_result",
          "data": {
            "text/plain": [
              "<matplotlib.collections.LineCollection at 0x7fcfcf7cec50>"
            ]
          },
          "metadata": {
            "tags": []
          },
          "execution_count": 26
        },
        {
          "output_type": "display_data",
          "data": {
            "image/png": "[encoded data removed]",
            "text/plain": [
              "<Figure size 432x288 with 1 Axes>"
            ]
          },
          "metadata": {
            "tags": [],
            "needs_background": "light"
          }
        }
      ]
    },
    {
      "cell_type": "code",
      "metadata": {
        "colab": {
          "base_uri": "https://localhost:8080/"
        },
        "id": "hKf3AffAvpYA",
        "outputId": "0ed36b68-25cf-4c86-8a20-dd6bbba27dfe"
      },
      "source": [
        "from scipy.optimize import fsolve\r\n",
        "T0 = 450 # K\r\n",
        "c = fsolve(func, T0)\r\n",
        "print(\"The final temperature is {} K\".format(c))"
      ],
      "execution_count": 27,
      "outputs": [
        {
          "output_type": "stream",
          "text": [
            "The final temperature is [457.82553636] K\n"
          ],
          "name": "stdout"
        }
      ]
    }
  ]
}