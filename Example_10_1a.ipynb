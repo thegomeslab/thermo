{
  "nbformat": 4,
  "nbformat_minor": 0,
  "metadata": {
    "colab": {
      "name": "Example 10.1a.ipynb",
      "provenance": [],
      "collapsed_sections": []
    },
    "kernelspec": {
      "name": "python3",
      "display_name": "Python 3"
    }
  },
  "cells": [
    {
      "cell_type": "markdown",
      "metadata": {
        "id": "q9OQB1nuimuV"
      },
      "source": [
        "# Import python libraries"
      ]
    },
    {
      "cell_type": "code",
      "metadata": {
        "id": "fzUtK6jbjGi3"
      },
      "source": [
        "import numpy as np\n",
        "import pandas as pd\n",
        "import matplotlib.pyplot as plt"
      ],
      "execution_count": 1,
      "outputs": []
    },
    {
      "cell_type": "markdown",
      "metadata": {
        "id": "f2LZF_KEiwZO"
      },
      "source": [
        "# Define functions for Antoine equations"
      ]
    },
    {
      "cell_type": "code",
      "metadata": {
        "id": "EJYmBDFNjOa2"
      },
      "source": [
        "def P1_sat(t):\n",
        "  return np.exp(14.2724-2945.47/(t+224.0))\n",
        "def P2_sat(t):\n",
        "  return np.exp(14.2043-2972.64/(t+209.0))"
      ],
      "execution_count": 2,
      "outputs": []
    },
    {
      "cell_type": "markdown",
      "metadata": {
        "id": "2b2Vu6YEjCcA"
      },
      "source": [
        "# Calculate single component vapor pressures"
      ]
    },
    {
      "cell_type": "code",
      "metadata": {
        "id": "A5jPbYWGmF9K",
        "colab": {
          "base_uri": "https://localhost:8080/"
        },
        "outputId": "862c838a-8189-4edd-8a76-60e593be7286"
      },
      "source": [
        "t = 75.0 # degC\n",
        "print(\"P1_sat({}\\u00B0C) = {} kPa and P2_sat({}\\u00B0C) = {} kPa\".format(t, np.round(P1_sat(t), 2), t, np.round(P2_sat(t), 2)))"
      ],
      "execution_count": 3,
      "outputs": [
        {
          "output_type": "stream",
          "text": [
            "P1_sat(75.0°C) = 83.21 kPa and P2_sat(75.0°C) = 41.98 kPa\n"
          ],
          "name": "stdout"
        }
      ]
    },
    {
      "cell_type": "markdown",
      "metadata": {
        "id": "QP2AkP_MjNfk"
      },
      "source": [
        "# Define functions needed for BUBL P calculation"
      ]
    },
    {
      "cell_type": "code",
      "metadata": {
        "id": "DK24f-aVmrqt"
      },
      "source": [
        "def P(x1, t):\n",
        "  return P2_sat(t) + (P1_sat(t) - P2_sat(t))*x1\n",
        "def Y1(x1, t):\n",
        "  return x1*P1_sat(t)/P(x1, t)"
      ],
      "execution_count": 4,
      "outputs": []
    },
    {
      "cell_type": "markdown",
      "metadata": {
        "id": "p7QghmSljUj5"
      },
      "source": [
        "# Construct P-x-y table"
      ]
    },
    {
      "cell_type": "code",
      "metadata": {
        "id": "1CAdYKKcrEqu",
        "colab": {
          "base_uri": "https://localhost:8080/"
        },
        "outputId": "5f054cd8-ac02-4a1e-e055-2bf5278d3ec2"
      },
      "source": [
        "x1s = np.arange(0.0, 1.2, 0.2)\n",
        "y1s = np.round(Y1(x1s, t), 4)\n",
        "ps = np.round(P(x1s, t), 2)\n",
        "table = {'x1': x1s, 'y1': y1s, 'P/kPa': ps}\n",
        "df = pd.DataFrame.from_dict(table)\n",
        "print(df)"
      ],
      "execution_count": 5,
      "outputs": [
        {
          "output_type": "stream",
          "text": [
            "    x1      y1  P/kPa\n",
            "0  0.0  0.0000  41.98\n",
            "1  0.2  0.3313  50.23\n",
            "2  0.4  0.5692  58.47\n",
            "3  0.6  0.7483  66.72\n",
            "4  0.8  0.8880  74.96\n",
            "5  1.0  1.0000  83.21\n"
          ],
          "name": "stdout"
        }
      ]
    },
    {
      "cell_type": "markdown",
      "metadata": {
        "id": "JCLoCb-rjZA_"
      },
      "source": [
        "# Construct P-x-y plot"
      ]
    },
    {
      "cell_type": "code",
      "metadata": {
        "id": "Q4SbRJH5nhpI",
        "colab": {
          "base_uri": "https://localhost:8080/",
          "height": 507
        },
        "outputId": "a2a9e333-e3f7-414b-a208-e3ed32421618"
      },
      "source": [
        "xs = np.arange(0.0, 1.01, 0.01)\n",
        "plt.figure(figsize=(5, 7.5))\n",
        "plt.plot(xs, P(xs, t))\n",
        "plt.plot(Y1(xs, t), P(xs, t))\n",
        "plt.title(\"P-x-y acetonitrile(1)/nitromethane(2) at {}$^\\circ$C\".format(t))\n",
        "plt.ylabel(\"P [kPa]\")\n",
        "plt.xlabel(\"$x_1$,$y_1$\")\n",
        "plt.xlim(0.0, 1.0)\n",
        "plt.ylim(20.0, 100.0)\n",
        "plt.yticks(np.arange(20.,120.,20.))\n",
        "plt.legend(['P-x', 'P-y'], loc=2)"
      ],
      "execution_count": 6,
      "outputs": [
        {
          "output_type": "execute_result",
          "data": {
            "text/plain": [
              "<matplotlib.legend.Legend at 0x7f72dafe9f50>"
            ]
          },
          "metadata": {
            "tags": []
          },
          "execution_count": 6
        },
        {
          "output_type": "display_data",
          "data": {
            "image/png": "[encoded data removed]",
            "text/plain": [
              "<Figure size 360x540 with 1 Axes>"
            ]
          },
          "metadata": {
            "tags": [],
            "needs_background": "light"
          }
        }
      ]
    },
    {
      "cell_type": "markdown",
      "metadata": {
        "id": "XzXpyQ0gjca1"
      },
      "source": [
        "# Perform DEW P calculation"
      ]
    },
    {
      "cell_type": "code",
      "metadata": {
        "id": "XboYsjkqycV_",
        "colab": {
          "base_uri": "https://localhost:8080/"
        },
        "outputId": "68deff42-1e16-4a14-d204-cdac662bbb5e"
      },
      "source": [
        "def DEW_P(y1, t):\n",
        "  p = 1/(y1/P1_sat(t)+(1-y1)/P2_sat(t))\n",
        "  x1 = y1*p/P1_sat(t)\n",
        "  return p, x1\n",
        "\n",
        "y1 = 0.60\n",
        "p, x1 = DEW_P(y1, t)\n",
        "print(\"At y1 = {} and T = {} degC, P = {} kPa and x1 = {}\".format(y1, t, np.round(p, 2), np.round(x1, 4)))"
      ],
      "execution_count": 7,
      "outputs": [
        {
          "output_type": "stream",
          "text": [
            "At y1 = 0.6 and T = 75.0 degC, P = 59.74 kPa and x1 = 0.4308\n"
          ],
          "name": "stdout"
        }
      ]
    }
  ]
}