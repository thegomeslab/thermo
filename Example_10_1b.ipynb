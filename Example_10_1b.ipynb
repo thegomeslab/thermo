{
  "nbformat": 4,
  "nbformat_minor": 0,
  "metadata": {
    "colab": {
      "name": "Example 10.1b.ipynb",
      "provenance": [],
      "collapsed_sections": []
    },
    "kernelspec": {
      "name": "python3",
      "display_name": "Python 3"
    }
  },
  "cells": [
    {
      "cell_type": "markdown",
      "metadata": {
        "id": "yE-tOQd2mkDA"
      },
      "source": [
        "# Import python libraries"
      ]
    },
    {
      "cell_type": "code",
      "metadata": {
        "id": "4_Qq4nGkJlQm"
      },
      "source": [
        "import numpy as np\n",
        "import pandas as pd\n",
        "import matplotlib.pyplot as plt"
      ],
      "execution_count": 1,
      "outputs": []
    },
    {
      "cell_type": "markdown",
      "metadata": {
        "id": "vPDNUpspmtto"
      },
      "source": [
        "# Define Antoine equations"
      ]
    },
    {
      "cell_type": "code",
      "metadata": {
        "id": "3-qlAS_aJmku"
      },
      "source": [
        "def T1_sat(p):\n",
        "  return 2945.47/(14.2724 - np.log(p)) - 224.00\n",
        "def T2_sat(p):\n",
        "  return 2972.64/(14.2043 - np.log(p)) - 209.00\n",
        "def P1_sat(t):\n",
        "  return np.exp(14.2724-2945.47/(t+224.0))\n",
        "def P2_sat(t):\n",
        "  return np.exp(14.2043-2972.64/(t+209.0))"
      ],
      "execution_count": 2,
      "outputs": []
    },
    {
      "cell_type": "markdown",
      "metadata": {
        "id": "nsG_JE45mxdH"
      },
      "source": [
        "# Calculate single component vapor pressures"
      ]
    },
    {
      "cell_type": "code",
      "metadata": {
        "id": "eyQFBb51Joop",
        "colab": {
          "base_uri": "https://localhost:8080/"
        },
        "outputId": "70715488-39da-4ccd-80f9-ac0833a6b2a7"
      },
      "source": [
        "p = 70.0 # kPa\n",
        "print(\"t1_sat({}kPa) = {}\\u00B0C and t2_sat({}kPa) = {}\\u00B0C\".format(p, np.round(T1_sat(p), 2), p, np.round(T2_sat(p), 2)))"
      ],
      "execution_count": 3,
      "outputs": [
        {
          "output_type": "stream",
          "text": [
            "t1_sat(70.0kPa) = 69.84°C and t2_sat(70.0kPa) = 89.58°C\n"
          ],
          "name": "stdout"
        }
      ]
    },
    {
      "cell_type": "code",
      "metadata": {
        "id": "16BOSBIRJuVi"
      },
      "source": [
        "def X1(p, t):\n",
        "  return (p - P2_sat(t))/(P1_sat(t) - P2_sat(t))\n",
        "def Y1(p, t):\n",
        "  return X1(p, t)*P1_sat(t)/p"
      ],
      "execution_count": 4,
      "outputs": []
    },
    {
      "cell_type": "markdown",
      "metadata": {
        "id": "B09gezBsm_Xq"
      },
      "source": [
        "# Construct T-x-y table"
      ]
    },
    {
      "cell_type": "code",
      "metadata": {
        "id": "bpVj3W3DJu9Q",
        "colab": {
          "base_uri": "https://localhost:8080/"
        },
        "outputId": "190e7362-dfe4-44f0-de6f-a09909e91b4b"
      },
      "source": [
        "ts = np.array([T2_sat(p), 86., 82., 78., 74., T1_sat(p)])\n",
        "x1s = X1(p, ts)\n",
        "y1s = Y1(p, ts)\n",
        "table = {'x1': np.round(x1s, 4), 'y1': np.round(y1s, 4), 'T/\\u00B0C': np.round(ts, 2)}\n",
        "df = pd.DataFrame.from_dict(table)\n",
        "print(df)"
      ],
      "execution_count": 5,
      "outputs": [
        {
          "output_type": "stream",
          "text": [
            "       x1      y1   T/°C\n",
            "0  0.0000  0.0000  89.58\n",
            "1  0.1424  0.2401  86.00\n",
            "2  0.3184  0.4742  82.00\n",
            "3  0.5156  0.6759  78.00\n",
            "4  0.7378  0.8484  74.00\n",
            "5  1.0000  1.0000  69.84\n"
          ],
          "name": "stdout"
        }
      ]
    },
    {
      "cell_type": "markdown",
      "metadata": {
        "id": "MaeNRI7OnERy"
      },
      "source": [
        "# Construct T-x-y diagram"
      ]
    },
    {
      "cell_type": "code",
      "metadata": {
        "id": "Jwb1_lnXLyiT",
        "colab": {
          "base_uri": "https://localhost:8080/",
          "height": 505
        },
        "outputId": "c6325a55-00d1-4f81-acd2-f214ec3abbb9"
      },
      "source": [
        "ts = np.arange(T1_sat(p), T2_sat(p)+0.5, 0.5)\n",
        "plt.figure(figsize=(5, 7.5))\n",
        "plt.plot(X1(p, ts), ts)\n",
        "plt.plot(Y1(p, ts), ts)\n",
        "plt.title(\"T-x-y acetonitrile(1)/nitromethane(2) at {}kPa\".format(p))\n",
        "plt.ylabel(\"T\\u00B0C\")\n",
        "plt.xlabel(\"$x_1$,$y_1$\")\n",
        "plt.xlim(0.0, 1.0)\n",
        "plt.ylim(65.0, 92.5)\n",
        "plt.yticks(np.arange(65.,95.,5.))\n",
        "plt.legend(['T-x', 'T-y'], loc=1)"
      ],
      "execution_count": 6,
      "outputs": [
        {
          "output_type": "execute_result",
          "data": {
            "text/plain": [
              "<matplotlib.legend.Legend at 0x7f481c36ffd0>"
            ]
          },
          "metadata": {
            "tags": []
          },
          "execution_count": 6
        },
        {
          "output_type": "display_data",
          "data": {
            "image/png": "[encoded data removed]",
            "text/plain": [
              "<Figure size 360x540 with 1 Axes>"
            ]
          },
          "metadata": {
            "tags": [],
            "needs_background": "light"
          }
        }
      ]
    },
    {
      "cell_type": "markdown",
      "metadata": {
        "id": "5-kEUZPMnT16"
      },
      "source": [
        "# Define useful functions for BUBL T and DEW T calculations"
      ]
    },
    {
      "cell_type": "code",
      "metadata": {
        "id": "T9wpIBmaM9kc"
      },
      "source": [
        "def Alpha(t):\n",
        "  lnalpha = 0.0681 - 2945.47/(t+224.) + 2972.64/(t+209.)\n",
        "  return np.exp(lnalpha)\n",
        "def P1_sat_from_alpha(y1, p, t):\n",
        "  return p*(y1 + (1-y1)*Alpha(t))\n",
        "def P2_sat_from_alpha(x1, p, t):\n",
        "  return p/(x1*Alpha(t)+(1-x1))"
      ],
      "execution_count": 7,
      "outputs": []
    },
    {
      "cell_type": "markdown",
      "metadata": {
        "id": "a-SfXUDMnZaY"
      },
      "source": [
        "# Define BUBL T function"
      ]
    },
    {
      "cell_type": "code",
      "metadata": {
        "id": "TnsKo8l_nh2a"
      },
      "source": [
        "def BUBL_T(x1, p):\n",
        "  tol = 1e-2 # Define convergence criteria\n",
        "  # Guess a temperature between the two saturation temperatures\n",
        "  t_prev = 0.\n",
        "  t_curr = (T2_sat(p) - T1_sat(p))*np.random.uniform() + T1_sat(p)\n",
        "  # Iterate until convergence criteria is satisfied\n",
        "  while(np.abs(t_curr-t_prev)>tol):\n",
        "    # Step 1: Calculate alpha given current guess temperature\n",
        "    # Step 2: Calculate P2_sat given system pressure, alpha, and x1\n",
        "    P2_sat_curr = P2_sat_from_alpha(x1, p, t_curr)\n",
        "    t_prev = t_curr\n",
        "    # Step 3: Calculate temperature given P2_sat via Antoine equation\n",
        "    t_curr = T2_sat(P2_sat_curr)\n",
        "  # Calculate y1 given converged system temperature\n",
        "  y1 = x1*P1_sat(t_curr)/p\n",
        "  return t_curr, y1"
      ],
      "execution_count": 8,
      "outputs": []
    },
    {
      "cell_type": "markdown",
      "metadata": {
        "id": "16iVYXMJneBM"
      },
      "source": [
        "# Perform BUBL T calculation"
      ]
    },
    {
      "cell_type": "code",
      "metadata": {
        "id": "PazUJKu-U3SW",
        "colab": {
          "base_uri": "https://localhost:8080/"
        },
        "outputId": "a68fbfd3-50b2-42aa-8240-58a8620f7bf1"
      },
      "source": [
        "x1 = 0.6\n",
        "T, y1 = BUBL_T(x1, p)\n",
        "print(\"At x1 = {} and P = {} kPa, T = {} degC and y1 = {}\".format(x1, p, np.round(T, 2), np.round(y1, 4)))"
      ],
      "execution_count": 9,
      "outputs": [
        {
          "output_type": "stream",
          "text": [
            "At x1 = 0.6 and P = 70.0 kPa, T = 76.42 degC and y1 = 0.7472\n"
          ],
          "name": "stdout"
        }
      ]
    },
    {
      "cell_type": "markdown",
      "metadata": {
        "id": "_5qZ4f_NnpkK"
      },
      "source": [
        "# Define DEW T function"
      ]
    },
    {
      "cell_type": "code",
      "metadata": {
        "id": "Zrts_liOVXtx"
      },
      "source": [
        "def DEW_T(y1, p):\n",
        "  # Define convergence criteria\n",
        "  tol = 1e-2\n",
        "  t_prev = 0.\n",
        "  # Guess a temperature between the two saturation temperatures\n",
        "  t_curr = (T2_sat(p) - T1_sat(p))*np.random.uniform() + T1_sat(p)\n",
        "  # Iterate until convergence criteria is satisfied\n",
        "  while(np.abs(t_curr-t_prev)>tol):\n",
        "    # Step 1: calculate alpha given current guess temperature\n",
        "    # Step 2: calculate P1_sat given y1, total pressure, and alpha\n",
        "    P1_sat_curr = P1_sat_from_alpha(y1, p, t_curr)\n",
        "    t_prev = t_curr\n",
        "    # Step 3: calculate temperature given P1_sat via Antoine equation\n",
        "    t_curr = T1_sat(P1_sat_curr)\n",
        "  # Calculate x1 given system temperature\n",
        "  x1 = y1*p/P1_sat_curr\n",
        "  return t_curr, x1"
      ],
      "execution_count": 10,
      "outputs": []
    },
    {
      "cell_type": "markdown",
      "metadata": {
        "id": "wWJN0BElns1p"
      },
      "source": [
        "# Perform DEW T calculation"
      ]
    },
    {
      "cell_type": "code",
      "metadata": {
        "id": "5vtGoUQCXq_N",
        "colab": {
          "base_uri": "https://localhost:8080/"
        },
        "outputId": "6aa8a63e-6a81-418b-f024-8462f623d86c"
      },
      "source": [
        "y1 = 0.6\n",
        "T, x1 = DEW_T(y1, p)\n",
        "print(\"At y1 = {} and P = {}, T = {} degC and x1 = {}\".format(y1, p, np.round(T, 2), np.round(x1, 4)))"
      ],
      "execution_count": 11,
      "outputs": [
        {
          "output_type": "stream",
          "text": [
            "At y1 = 0.6 and P = 70.0, T = 79.58 degC and x1 = 0.4351\n"
          ],
          "name": "stdout"
        }
      ]
    }
  ]
}